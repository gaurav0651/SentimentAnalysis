{
 "cells": [
  {
   "cell_type": "code",
   "execution_count": 1,
   "metadata": {},
   "outputs": [],
   "source": [
    "import torch.nn as nn\n",
    "import numpy as np\n",
    "from torch.autograd import Variable\n",
    "import torch\n",
    "from autocorrect import spell\n",
    "import itertools\n",
    "import torch.optim as optim\n",
    "import torch.autograd as autograd\n",
    "import torch.nn.functional as F\n",
    "from IPython.display import clear_output"
   ]
  },
  {
   "cell_type": "code",
   "execution_count": 2,
   "metadata": {},
   "outputs": [
    {
     "name": "stdout",
     "output_type": "stream",
     "text": [
      "680\n",
      "680\n"
     ]
    }
   ],
   "source": [
    "import csv\n",
    "\n",
    "trainData = []\n",
    "trainValue = []\n",
    "with open('data/train.txt') as csvfile:\n",
    "    readCSV = csv.reader(csvfile, delimiter=',')\n",
    "    for row in readCSV:\n",
    "        try:\n",
    "            text,sentiment = row[0].split(\"\\t\")\n",
    "            trainData.append(text)\n",
    "            trainValue.append(sentiment)\n",
    "        except(ValueError):\n",
    "            continue\n",
    "        \n",
    "print(len(trainData))\n",
    "print(len(trainValue))"
   ]
  },
  {
   "cell_type": "code",
   "execution_count": 3,
   "metadata": {},
   "outputs": [],
   "source": [
    "import gensim\n",
    "word_to_ix = gensim.models.KeyedVectors.load_word2vec_format('data/fasttext/wiki.en.vec')"
   ]
  },
  {
   "cell_type": "code",
   "execution_count": 4,
   "metadata": {},
   "outputs": [],
   "source": [
    "def prepare_wordvec(seq):\n",
    "    word_vector=[]\n",
    "    for w in seq:\n",
    "        if w in word_to_ix:\n",
    "            word_vector.append(word_to_ix[w])\n",
    "        else:\n",
    "            w = spell(w)  #spelling errors\n",
    "            if w in word_to_ix:\n",
    "                word_vector.append(word_to_ix[w])\n",
    "            else:\n",
    "                word_vector.append(word_to_ix[\"none\"]) #if the word cant be figured out\n",
    "    c = len(word_vector)\n",
    "    word_vector = np.array(word_vector)\n",
    "    word_vector = word_vector.reshape(c,300)\n",
    "    vec = Variable(torch.from_numpy(word_vector))\n",
    "    return vec"
   ]
  },
  {
   "cell_type": "code",
   "execution_count": 5,
   "metadata": {},
   "outputs": [],
   "source": [
    "class LSTMClassifier(nn.Module):\n",
    "    def __init__(self):\n",
    "        super(LSTMClassifier, self).__init__()\n",
    "        self.lstm = nn.LSTM(300, 128, 3, dropout=0.2, batch_first=True)\n",
    "        self.fcn1 = nn.Linear(128, 64)\n",
    "        self.fcn2 = nn.Linear(64, 32)\n",
    "        self.fcn3 = nn.Linear(32, 2)\n",
    "        self.dropout = nn.Dropout(p=0.25)\n",
    "        \n",
    "    def init_hidden(self, batch_size):\n",
    "        return (Variable(torch.zeros(3,batch_size,128)), Variable(torch.zeros(3,batch_size,128)))\n",
    "    \n",
    "    def forward(self, x, batch_size):\n",
    "        self.hidden = self.init_hidden(batch_size)\n",
    "        output, hn = self.lstm(x, self.hidden)\n",
    "        output, seq_index = nn.utils.rnn.pad_packed_sequence(output, batch_first=True)\n",
    "        new_tensor = Variable(torch.zeros(len(seq_index), 128))\n",
    "\n",
    "        for idx, batch_element in enumerate(output):\n",
    "            col_index = seq_index[idx] - 1\n",
    "            col_element = batch_element[col_index]\n",
    "            new_tensor[idx] = col_element\n",
    "        \n",
    "        output = self.fcn1(new_tensor)\n",
    "        output = self.dropout(output)\n",
    "        output = self.fcn2(output)\n",
    "        output = self.dropout(output)\n",
    "        output = self.fcn3(output)\n",
    "        output = F.log_softmax(output, dim=1)\n",
    "        return output"
   ]
  },
  {
   "cell_type": "code",
   "execution_count": 6,
   "metadata": {},
   "outputs": [],
   "source": [
    "EMBEDDING_DIM = 300\n",
    "HIDDEN_DIM = 32"
   ]
  },
  {
   "cell_type": "code",
   "execution_count": 7,
   "metadata": {},
   "outputs": [],
   "source": [
    "import unicodedata\n",
    "import re\n",
    "def unicodeToAscii(s):\n",
    "    return ''.join(\n",
    "        c for c in unicodedata.normalize('NFD', s)\n",
    "        if unicodedata.category(c) != 'Mn'\n",
    "    )\n",
    "\n",
    "def normalizeString(s):\n",
    "    s = unicodeToAscii(s.lower().strip())\n",
    "    s = re.sub(r\"won't\", \"will not\", s)\n",
    "    s = re.sub(r\"can\\'t\", \"can not\", s)\n",
    "\n",
    "    # general\n",
    "    s = re.sub(r\"n\\'t\", \" not\", s)\n",
    "    s = re.sub(r\"\\'re\", \" are\", s)\n",
    "    s = re.sub(r\"\\'s\", \" is\", s)\n",
    "    s = re.sub(r\"\\'d\", \" would\", s)\n",
    "    s = re.sub(r\"\\'ll\", \" will\", s)\n",
    "    s = re.sub(r\"\\'t\", \" not\", s)\n",
    "    s = re.sub(r\"\\'ve\", \" have\", s)\n",
    "    s = re.sub(r\"\\'m\", \" am\", s)\n",
    "    s = re.sub(r\"([.!?])\", r\" \", s)\n",
    "    s = re.sub(r\"[^a-zA-Z.!?]+\", r\" \", s)\n",
    "    s = re.sub(r\"\\s+\", r\" \", s).strip()\n",
    "    return s"
   ]
  },
  {
   "cell_type": "code",
   "execution_count": 8,
   "metadata": {},
   "outputs": [],
   "source": [
    "training_data = []\n",
    "for sentence in trainData:\n",
    "    s = normalizeString(sentence)\n",
    "    length = len(s.split())\n",
    "    inputs = prepare_wordvec(s.split())\n",
    "    test_utterance = inputs.view(1, length, 300)\n",
    "    training_data.append(test_utterance)"
   ]
  },
  {
   "cell_type": "code",
   "execution_count": 9,
   "metadata": {},
   "outputs": [],
   "source": [
    "tag_to_ix = {\"BAD\": 0, \"GOOD\": 1}\n",
    "def prepare_sequence(ix):\n",
    "    if ix ==\"0\":\n",
    "        idxs = [0]\n",
    "    else:\n",
    "        idxs = [1]\n",
    "    return torch.tensor(idxs, dtype=torch.long)\n",
    "training_result = []\n",
    "for value in trainValue:\n",
    "    x = prepare_sequence(value)\n",
    "    training_result.append(x)\n",
    "    "
   ]
  },
  {
   "cell_type": "code",
   "execution_count": 10,
   "metadata": {},
   "outputs": [],
   "source": [
    "model = LSTMClassifier()\n",
    "loss_function = nn.NLLLoss()\n",
    "optimizer = optim.SGD(model.parameters(), lr=0.1)"
   ]
  },
  {
   "cell_type": "code",
   "execution_count": 11,
   "metadata": {
    "scrolled": false
   },
   "outputs": [
    {
     "name": "stdout",
     "output_type": "stream",
     "text": [
      "#epoch: 90/300   accuraccy%: 100.0\n"
     ]
    },
    {
     "ename": "KeyboardInterrupt",
     "evalue": "",
     "output_type": "error",
     "traceback": [
      "\u001b[0;31m---------------------------------------------------------------------------\u001b[0m",
      "\u001b[0;31mKeyboardInterrupt\u001b[0m                         Traceback (most recent call last)",
      "\u001b[0;32m<ipython-input-11-836def38987b>\u001b[0m in \u001b[0;36m<module>\u001b[0;34m()\u001b[0m\n\u001b[1;32m     20\u001b[0m         \u001b[0;31m#  calling optimizer.step()\u001b[0m\u001b[0;34m\u001b[0m\u001b[0;34m\u001b[0m\u001b[0m\n\u001b[1;32m     21\u001b[0m         \u001b[0mloss\u001b[0m \u001b[0;34m=\u001b[0m \u001b[0mloss_function\u001b[0m\u001b[0;34m(\u001b[0m\u001b[0mtag_scores\u001b[0m\u001b[0;34m,\u001b[0m \u001b[0mtraining_result\u001b[0m\u001b[0;34m[\u001b[0m\u001b[0midx\u001b[0m\u001b[0;34m]\u001b[0m\u001b[0;34m)\u001b[0m\u001b[0;34m\u001b[0m\u001b[0m\n\u001b[0;32m---> 22\u001b[0;31m         \u001b[0mloss\u001b[0m\u001b[0;34m.\u001b[0m\u001b[0mbackward\u001b[0m\u001b[0;34m(\u001b[0m\u001b[0;34m)\u001b[0m\u001b[0;34m\u001b[0m\u001b[0m\n\u001b[0m\u001b[1;32m     23\u001b[0m         \u001b[0moptimizer\u001b[0m\u001b[0;34m.\u001b[0m\u001b[0mstep\u001b[0m\u001b[0;34m(\u001b[0m\u001b[0;34m)\u001b[0m\u001b[0;34m\u001b[0m\u001b[0m\n\u001b[1;32m     24\u001b[0m     \u001b[0mclear_output\u001b[0m\u001b[0;34m(\u001b[0m\u001b[0;34m)\u001b[0m\u001b[0;34m\u001b[0m\u001b[0m\n",
      "\u001b[0;32m~/.local/lib/python3.6/site-packages/torch/tensor.py\u001b[0m in \u001b[0;36mbackward\u001b[0;34m(self, gradient, retain_graph, create_graph)\u001b[0m\n\u001b[1;32m     91\u001b[0m                 \u001b[0mproducts\u001b[0m\u001b[0;34m.\u001b[0m \u001b[0mDefaults\u001b[0m \u001b[0mto\u001b[0m\u001b[0;31m \u001b[0m\u001b[0;31m`\u001b[0m\u001b[0;31m`\u001b[0m\u001b[0;32mFalse\u001b[0m\u001b[0;31m`\u001b[0m\u001b[0;31m`\u001b[0m\u001b[0;34m.\u001b[0m\u001b[0;34m\u001b[0m\u001b[0m\n\u001b[1;32m     92\u001b[0m         \"\"\"\n\u001b[0;32m---> 93\u001b[0;31m         \u001b[0mtorch\u001b[0m\u001b[0;34m.\u001b[0m\u001b[0mautograd\u001b[0m\u001b[0;34m.\u001b[0m\u001b[0mbackward\u001b[0m\u001b[0;34m(\u001b[0m\u001b[0mself\u001b[0m\u001b[0;34m,\u001b[0m \u001b[0mgradient\u001b[0m\u001b[0;34m,\u001b[0m \u001b[0mretain_graph\u001b[0m\u001b[0;34m,\u001b[0m \u001b[0mcreate_graph\u001b[0m\u001b[0;34m)\u001b[0m\u001b[0;34m\u001b[0m\u001b[0m\n\u001b[0m\u001b[1;32m     94\u001b[0m \u001b[0;34m\u001b[0m\u001b[0m\n\u001b[1;32m     95\u001b[0m     \u001b[0;32mdef\u001b[0m \u001b[0mregister_hook\u001b[0m\u001b[0;34m(\u001b[0m\u001b[0mself\u001b[0m\u001b[0;34m,\u001b[0m \u001b[0mhook\u001b[0m\u001b[0;34m)\u001b[0m\u001b[0;34m:\u001b[0m\u001b[0;34m\u001b[0m\u001b[0m\n",
      "\u001b[0;32m~/.local/lib/python3.6/site-packages/torch/autograd/__init__.py\u001b[0m in \u001b[0;36mbackward\u001b[0;34m(tensors, grad_tensors, retain_graph, create_graph, grad_variables)\u001b[0m\n\u001b[1;32m     87\u001b[0m     Variable._execution_engine.run_backward(\n\u001b[1;32m     88\u001b[0m         \u001b[0mtensors\u001b[0m\u001b[0;34m,\u001b[0m \u001b[0mgrad_tensors\u001b[0m\u001b[0;34m,\u001b[0m \u001b[0mretain_graph\u001b[0m\u001b[0;34m,\u001b[0m \u001b[0mcreate_graph\u001b[0m\u001b[0;34m,\u001b[0m\u001b[0;34m\u001b[0m\u001b[0m\n\u001b[0;32m---> 89\u001b[0;31m         allow_unreachable=True)  # allow_unreachable flag\n\u001b[0m\u001b[1;32m     90\u001b[0m \u001b[0;34m\u001b[0m\u001b[0m\n\u001b[1;32m     91\u001b[0m \u001b[0;34m\u001b[0m\u001b[0m\n",
      "\u001b[0;31mKeyboardInterrupt\u001b[0m: "
     ]
    }
   ],
   "source": [
    "for epoch in range(95):  \n",
    "    if(epoch == 0):\n",
    "        print(\"#epoch: 0\")\n",
    "    else:\n",
    "        print(\"#epoch: \"+str(epoch)+\"/95   accuraccy%: \"+str(correct*100/len(training_data)))\n",
    "    correct = 0\n",
    "    for idx,sentence in enumerate(training_data):\n",
    "        # Step 1. Remember that Pytorch accumulates gradients.\n",
    "        # We need to clear them out before each instance\n",
    "        model.zero_grad()\n",
    "        k = nn.utils.rnn.pack_padded_sequence(sentence, [len(sentence[0])], batch_first=True)\n",
    "        # Step 3. Run our forward pass.\n",
    "        tag_scores = model(k,1)\n",
    "        if(torch.Tensor.item(tag_scores.argmax())==int(trainValue[idx])):\n",
    "            correct+= 1\n",
    "        else:\n",
    "            print(trainData[idx]+\" \"+trainValue[idx])\n",
    "            print(tag_scores)\n",
    "        # Step 4. Compute the loss, gradients, and update the parameters by\n",
    "        #  calling optimizer.step()\n",
    "        loss = loss_function(tag_scores, training_result[idx])\n",
    "        loss.backward()\n",
    "        optimizer.step()\n",
    "    clear_output()\n"
   ]
  },
  {
   "cell_type": "code",
   "execution_count": 24,
   "metadata": {},
   "outputs": [
    {
     "name": "stdout",
     "output_type": "stream",
     "text": [
      "tensor([[ 3.0664e-16,  1.0000e+00]])\n",
      "1\n"
     ]
    }
   ],
   "source": [
    "test = \"Good food, good wine. perfect!\"\n",
    "test = normalizeString(test)\n",
    "length = len(test.split())\n",
    "test = prepare_wordvec(test.split())\n",
    "test = test.view(1, length, 300)\n",
    "k = nn.utils.rnn.pack_padded_sequence(test, [length], batch_first=True)\n",
    "tag_scores = model(k,1)\n",
    "print(torch.exp(tag_scores))\n",
    "print(torch.Tensor.item(tag_scores.argmax()))"
   ]
  },
  {
   "cell_type": "markdown",
   "metadata": {},
   "source": [
    "torch.save(model.state_dict(), \"./sentiment.pt\")"
   ]
  },
  {
   "cell_type": "markdown",
   "metadata": {},
   "source": [
    "testData = []\n",
    "with open('data/test.txt') as csvfile:\n",
    "    readCSV = csv.reader(csvfile)\n",
    "    for row in readCSV:\n",
    "        s = normalizeString(row[0])\n",
    "        length = len(s.split())\n",
    "        inputs = prepare_wordvec(s.split())\n",
    "        test_utterance = inputs.view(1, length, 300)\n",
    "        testData.append(test_utterance)\n",
    "        \n",
    "for idx,sentence in enumerate(testData):\n",
    "        k = nn.utils.rnn.pack_padded_sequence(sentence, [len(sentence[0])], batch_first=True)\n",
    "        # Step 3. Run our forward pass.\n",
    "        tag_scores = model(k,1)\n",
    "        print(idx+1,torch.exp(tag_scores))\n",
    "        "
   ]
  }
 ],
 "metadata": {
  "kernelspec": {
   "display_name": "Python 3",
   "language": "python",
   "name": "python3"
  },
  "language_info": {
   "codemirror_mode": {
    "name": "ipython",
    "version": 3
   },
   "file_extension": ".py",
   "mimetype": "text/x-python",
   "name": "python",
   "nbconvert_exporter": "python",
   "pygments_lexer": "ipython3",
   "version": "3.6.3"
  }
 },
 "nbformat": 4,
 "nbformat_minor": 2
}
